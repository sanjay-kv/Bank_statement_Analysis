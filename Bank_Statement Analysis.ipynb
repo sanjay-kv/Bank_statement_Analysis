{
 "cells": [
  {
   "cell_type": "markdown",
   "metadata": {},
   "source": [
    "Bank Statement Analysis - Data Cleaning and Preparation"
   ]
  },
  {
   "cell_type": "code",
   "execution_count": 3,
   "metadata": {},
   "outputs": [],
   "source": [
    "import pandas as pd \n",
    "import numpy as np"
   ]
  },
  {
   "cell_type": "code",
   "execution_count": 2,
   "metadata": {},
   "outputs": [
    {
     "ename": "SyntaxError",
     "evalue": "invalid syntax (4095053427.py, line 1)",
     "output_type": "error",
     "traceback": [
      "\u001b[1;36m  Cell \u001b[1;32mIn[2], line 1\u001b[1;36m\u001b[0m\n\u001b[1;33m    pip install tabula-py\u001b[0m\n\u001b[1;37m        ^\u001b[0m\n\u001b[1;31mSyntaxError\u001b[0m\u001b[1;31m:\u001b[0m invalid syntax\n"
     ]
    }
   ],
   "source": [
    "#pip install tabula-py\n",
    "# library for PDF File"
   ]
  },
  {
   "cell_type": "code",
   "execution_count": 18,
   "metadata": {},
   "outputs": [],
   "source": [
    "import fitz  # PyMuPDF\n",
    "import csv\n",
    "\n",
    "def extract_text_from_pdf(pdf_file):\n",
    "    text = ''\n",
    "    with fitz.open(pdf_file) as doc:\n",
    "        for page in doc:\n",
    "            text += page.get_text()\n",
    "    return text\n",
    "\n",
    "def save_to_csv(text, csv_file):\n",
    "    lines = text.split('\\n')\n",
    "    with open(csv_file, 'w', newline='', encoding='utf-8') as file:\n",
    "        writer = csv.writer(file)\n",
    "        for line in lines:\n",
    "            writer.writerow([line])\n",
    "\n",
    "# Example usage\n",
    "pdf_file = 'AccountStatement.pdf'\n",
    "csv_file = 'AccountStatement.csv'\n",
    "\n",
    "# Extract text from PDF\n",
    "text = extract_text_from_pdf(pdf_file)\n",
    "\n",
    "# Save extracted text to CSV\n",
    "save_to_csv(text, csv_file)\n"
   ]
  },
  {
   "cell_type": "markdown",
   "metadata": {},
   "source": [
    "Loading the dataset into a dataframe"
   ]
  },
  {
   "cell_type": "code",
   "execution_count": 19,
   "metadata": {},
   "outputs": [],
   "source": [
    "df = pd.read_csv(\"AccountStatement.csv\")"
   ]
  },
  {
   "cell_type": "code",
   "execution_count": 20,
   "metadata": {},
   "outputs": [
    {
     "data": {
      "text/html": [
       "<div>\n",
       "<style scoped>\n",
       "    .dataframe tbody tr th:only-of-type {\n",
       "        vertical-align: middle;\n",
       "    }\n",
       "\n",
       "    .dataframe tbody tr th {\n",
       "        vertical-align: top;\n",
       "    }\n",
       "\n",
       "    .dataframe thead th {\n",
       "        text-align: right;\n",
       "    }\n",
       "</style>\n",
       "<table border=\"1\" class=\"dataframe\">\n",
       "  <thead>\n",
       "    <tr style=\"text-align: right;\">\n",
       "      <th></th>\n",
       "      <th>MR S KANAKKOT VISWANATHAN</th>\n",
       "    </tr>\n",
       "  </thead>\n",
       "  <tbody>\n",
       "    <tr>\n",
       "      <th>0</th>\n",
       "      <td>VILLA 31 ROOM 5 - 122 CULLODEN ROAD</td>\n",
       "    </tr>\n",
       "    <tr>\n",
       "      <th>1</th>\n",
       "      <td>MARSFIELD NSW 2122</td>\n",
       "    </tr>\n",
       "    <tr>\n",
       "      <th>2</th>\n",
       "      <td>*#* 4183.39347.1.4 ZZ258R3 0303 SL.R3.S96A.D34...</td>\n",
       "    </tr>\n",
       "    <tr>\n",
       "      <th>3</th>\n",
       "      <td>Your Statement</td>\n",
       "    </tr>\n",
       "    <tr>\n",
       "      <th>4</th>\n",
       "      <td>Statement 7</td>\n",
       "    </tr>\n",
       "    <tr>\n",
       "      <th>5</th>\n",
       "      <td>(Page 1 of 6)</td>\n",
       "    </tr>\n",
       "    <tr>\n",
       "      <th>6</th>\n",
       "      <td>Account Number</td>\n",
       "    </tr>\n",
       "    <tr>\n",
       "      <th>7</th>\n",
       "      <td>06 2320 11622449</td>\n",
       "    </tr>\n",
       "    <tr>\n",
       "      <th>8</th>\n",
       "      <td>Statement</td>\n",
       "    </tr>\n",
       "    <tr>\n",
       "      <th>9</th>\n",
       "      <td>Period</td>\n",
       "    </tr>\n",
       "    <tr>\n",
       "      <th>10</th>\n",
       "      <td>10 Dec 2023 - 30 Dec 2023</td>\n",
       "    </tr>\n",
       "    <tr>\n",
       "      <th>11</th>\n",
       "      <td>Closing Balance</td>\n",
       "    </tr>\n",
       "    <tr>\n",
       "      <th>12</th>\n",
       "      <td>$1,026.47 CR</td>\n",
       "    </tr>\n",
       "    <tr>\n",
       "      <th>13</th>\n",
       "      <td>Enquiries</td>\n",
       "    </tr>\n",
       "    <tr>\n",
       "      <th>14</th>\n",
       "      <td>13 2221</td>\n",
       "    </tr>\n",
       "    <tr>\n",
       "      <th>15</th>\n",
       "      <td>004</td>\n",
       "    </tr>\n",
       "    <tr>\n",
       "      <th>16</th>\n",
       "      <td>Smart Access</td>\n",
       "    </tr>\n",
       "    <tr>\n",
       "      <th>17</th>\n",
       "      <td>Enjoy the convenience and security of withdraw...</td>\n",
       "    </tr>\n",
       "    <tr>\n",
       "      <th>18</th>\n",
       "      <td>monthly account fee waived if you deposit at l...</td>\n",
       "    </tr>\n",
       "    <tr>\n",
       "      <th>19</th>\n",
       "      <td>Name:</td>\n",
       "    </tr>\n",
       "  </tbody>\n",
       "</table>\n",
       "</div>"
      ],
      "text/plain": [
       "                            MR S KANAKKOT VISWANATHAN\n",
       "0                 VILLA 31 ROOM 5 - 122 CULLODEN ROAD\n",
       "1                                  MARSFIELD NSW 2122\n",
       "2   *#* 4183.39347.1.4 ZZ258R3 0303 SL.R3.S96A.D34...\n",
       "3                                      Your Statement\n",
       "4                                         Statement 7\n",
       "5                                       (Page 1 of 6)\n",
       "6                                      Account Number\n",
       "7                                    06 2320 11622449\n",
       "8                                           Statement\n",
       "9                                              Period\n",
       "10                          10 Dec 2023 - 30 Dec 2023\n",
       "11                                    Closing Balance\n",
       "12                                      $1,026.47 CR \n",
       "13                                          Enquiries\n",
       "14                                            13 2221\n",
       "15                                                004\n",
       "16                                       Smart Access\n",
       "17  Enjoy the convenience and security of withdraw...\n",
       "18  monthly account fee waived if you deposit at l...\n",
       "19                                              Name:"
      ]
     },
     "execution_count": 20,
     "metadata": {},
     "output_type": "execute_result"
    }
   ],
   "source": [
    "df.head(20)"
   ]
  },
  {
   "cell_type": "code",
   "execution_count": 21,
   "metadata": {},
   "outputs": [
    {
     "name": "stdout",
     "output_type": "stream",
     "text": [
      "<class 'pandas.core.frame.DataFrame'>\n",
      "RangeIndex: 600 entries, 0 to 599\n",
      "Data columns (total 1 columns):\n",
      " #   Column                     Non-Null Count  Dtype \n",
      "---  ------                     --------------  ----- \n",
      " 0   MR S KANAKKOT VISWANATHAN  599 non-null    object\n",
      "dtypes: object(1)\n",
      "memory usage: 4.8+ KB\n"
     ]
    }
   ],
   "source": [
    "df.info()"
   ]
  },
  {
   "cell_type": "markdown",
   "metadata": {},
   "source": [
    "2. Rectifying and cleaning the data\n",
    "Some slight adjustments\n",
    "\n",
    "Renaming the columns"
   ]
  },
  {
   "cell_type": "code",
   "execution_count": 8,
   "metadata": {},
   "outputs": [
    {
     "data": {
      "text/plain": [
       "26/03/2024                                                             0\n",
       "+40.50                                                                 0\n",
       "Fast Transfer From UBERBV Payment for services X96\" UN6FXOLMVWLXESO    0\n",
       "+1011.94                                                               0\n",
       "dtype: int64"
      ]
     },
     "execution_count": 8,
     "metadata": {},
     "output_type": "execute_result"
    }
   ],
   "source": [
    "df.isna().sum()"
   ]
  },
  {
   "cell_type": "code",
   "execution_count": 9,
   "metadata": {},
   "outputs": [
    {
     "data": {
      "text/html": [
       "<div>\n",
       "<style scoped>\n",
       "    .dataframe tbody tr th:only-of-type {\n",
       "        vertical-align: middle;\n",
       "    }\n",
       "\n",
       "    .dataframe tbody tr th {\n",
       "        vertical-align: top;\n",
       "    }\n",
       "\n",
       "    .dataframe thead th {\n",
       "        text-align: right;\n",
       "    }\n",
       "</style>\n",
       "<table border=\"1\" class=\"dataframe\">\n",
       "  <thead>\n",
       "    <tr style=\"text-align: right;\">\n",
       "      <th></th>\n",
       "      <th>26/03/2024</th>\n",
       "      <th>+40.50</th>\n",
       "      <th>Fast Transfer From UBERBV Payment for services X96\" UN6FXOLMVWLXESO</th>\n",
       "      <th>+1011.94</th>\n",
       "    </tr>\n",
       "  </thead>\n",
       "  <tbody>\n",
       "    <tr>\n",
       "      <th>0</th>\n",
       "      <td>26/03/2024</td>\n",
       "      <td>844.86</td>\n",
       "      <td>Fast Transfer From AJAY SHAH We wages 17 March 24</td>\n",
       "      <td>971.44</td>\n",
       "    </tr>\n",
       "    <tr>\n",
       "      <th>1</th>\n",
       "      <td>25/03/2024</td>\n",
       "      <td>-94.14</td>\n",
       "      <td>StepPay Repayment</td>\n",
       "      <td>126.58</td>\n",
       "    </tr>\n",
       "    <tr>\n",
       "      <th>2</th>\n",
       "      <td>25/03/2024</td>\n",
       "      <td>-93.89</td>\n",
       "      <td>StepPay Repayment</td>\n",
       "      <td>220.72</td>\n",
       "    </tr>\n",
       "    <tr>\n",
       "      <th>3</th>\n",
       "      <td>24/03/2024</td>\n",
       "      <td>65.32</td>\n",
       "      <td>Fast Transfer From UBERBV Payment for services...</td>\n",
       "      <td>314.61</td>\n",
       "    </tr>\n",
       "    <tr>\n",
       "      <th>4</th>\n",
       "      <td>23/03/2024</td>\n",
       "      <td>-10.29</td>\n",
       "      <td>DBS*UMQ Ltd North Ryde NS AUS Card xx1648 Valu...</td>\n",
       "      <td>249.29</td>\n",
       "    </tr>\n",
       "  </tbody>\n",
       "</table>\n",
       "</div>"
      ],
      "text/plain": [
       "   26/03/2024  +40.50  \\\n",
       "0  26/03/2024  844.86   \n",
       "1  25/03/2024  -94.14   \n",
       "2  25/03/2024  -93.89   \n",
       "3  24/03/2024   65.32   \n",
       "4  23/03/2024  -10.29   \n",
       "\n",
       "  Fast Transfer From UBERBV Payment for services X96\" UN6FXOLMVWLXESO  \\\n",
       "0  Fast Transfer From AJAY SHAH We wages 17 March 24                    \n",
       "1                                  StepPay Repayment                    \n",
       "2                                  StepPay Repayment                    \n",
       "3  Fast Transfer From UBERBV Payment for services...                    \n",
       "4  DBS*UMQ Ltd North Ryde NS AUS Card xx1648 Valu...                    \n",
       "\n",
       "   +1011.94  \n",
       "0    971.44  \n",
       "1    126.58  \n",
       "2    220.72  \n",
       "3    314.61  \n",
       "4    249.29  "
      ]
     },
     "execution_count": 9,
     "metadata": {},
     "output_type": "execute_result"
    }
   ],
   "source": [
    "df.head()"
   ]
  },
  {
   "cell_type": "code",
   "execution_count": null,
   "metadata": {},
   "outputs": [],
   "source": [
    "Change pdf to csv"
   ]
  }
 ],
 "metadata": {
  "kernelspec": {
   "display_name": "Python 3",
   "language": "python",
   "name": "python3"
  },
  "language_info": {
   "codemirror_mode": {
    "name": "ipython",
    "version": 3
   },
   "file_extension": ".py",
   "mimetype": "text/x-python",
   "name": "python",
   "nbconvert_exporter": "python",
   "pygments_lexer": "ipython3",
   "version": "3.9.2"
  }
 },
 "nbformat": 4,
 "nbformat_minor": 2
}
